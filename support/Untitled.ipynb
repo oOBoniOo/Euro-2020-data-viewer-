{
 "cells": [
  {
   "cell_type": "code",
   "execution_count": 2,
   "id": "1188b235",
   "metadata": {},
   "outputs": [],
   "source": [
    "from pymongo import MongoClient\n",
    "import json\n",
    "\n",
    "client = MongoClient()\n",
    "\n",
    "db = client.get_database(\"euro_2020\")\n"
   ]
  },
  {
   "cell_type": "code",
   "execution_count": 3,
   "id": "a46a2a17",
   "metadata": {},
   "outputs": [
    {
     "data": {
      "text/plain": [
       "Collection(Database(MongoClient(host=['localhost:27017'], document_class=dict, tz_aware=False, connect=True), 'euro_2020'), 'teams')"
      ]
     },
     "execution_count": 3,
     "metadata": {},
     "output_type": "execute_result"
    }
   ],
   "source": [
    "colec = db.teams\n",
    "colec"
   ]
  },
  {
   "cell_type": "code",
   "execution_count": 9,
   "id": "dc379840",
   "metadata": {},
   "outputs": [],
   "source": [
    "archivo = \"../data/teams_bd.json\"\n"
   ]
  },
  {
   "cell_type": "code",
   "execution_count": 10,
   "id": "81015df2",
   "metadata": {},
   "outputs": [],
   "source": [
    "#Abriendo el archivo con la funcion open()\n",
    "with open(archivo) as file: \n",
    "    file_data = json.load(file) \n",
    "      \n",
    "if isinstance(file_data, list): \n",
    "    colec.insert_many(file_data)   \n",
    "else: \n",
    "    colec.insert_one(file_data)"
   ]
  },
  {
   "cell_type": "code",
   "execution_count": null,
   "id": "37b10cf4",
   "metadata": {},
   "outputs": [],
   "source": []
  }
 ],
 "metadata": {
  "kernelspec": {
   "display_name": "Python 3 (ipykernel)",
   "language": "python",
   "name": "python3"
  },
  "language_info": {
   "codemirror_mode": {
    "name": "ipython",
    "version": 3
   },
   "file_extension": ".py",
   "mimetype": "text/x-python",
   "name": "python",
   "nbconvert_exporter": "python",
   "pygments_lexer": "ipython3",
   "version": "3.9.6"
  }
 },
 "nbformat": 4,
 "nbformat_minor": 5
}
