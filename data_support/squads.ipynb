{
 "cells": [
  {
   "cell_type": "code",
   "execution_count": 1,
   "id": "a2b74cab",
   "metadata": {},
   "outputs": [],
   "source": [
    "import requests\n",
    "import json\n",
    "def get_matches():\n",
    "    url=\"http://127.0.0.1:5000/matchs\"\n",
    "    equipos = requests.get(url).json()\n",
    "    return equipos\n"
   ]
  },
  {
   "cell_type": "code",
   "execution_count": 7,
   "id": "12f26a2a",
   "metadata": {},
   "outputs": [
    {
     "data": {
      "text/plain": [
       "{'_id': {'$oid': '616e15d80a2f03253efafec1'},\n",
       " 'country': 'Spain',\n",
       " 'squad': ['David de Gea',\n",
       "  'Robert Sanchez',\n",
       "  'Unai Simon',\n",
       "  'Aymeric Laporte',\n",
       "  'Jose Gaya',\n",
       "  'Jordi Alba',\n",
       "  'Pau Torres',\n",
       "  'Eric Garcia',\n",
       "  'Diego Llorente',\n",
       "  'Cesar Azpilicueta',\n",
       "  'Marcos Llorente',\n",
       "  'Sergio Busquets',\n",
       "  'Rodri',\n",
       "  'Pedri',\n",
       "  'Thiago',\n",
       "  'Koke',\n",
       "  'Fabian',\n",
       "  'Dani Olmo',\n",
       "  'Mikel Oyarzabal',\n",
       "  'Gerard Moreno',\n",
       "  'Alvaro Morata',\n",
       "  'Ferran Torres',\n",
       "  'Adama Traore',\n",
       "  'Pablo Sarabia']}"
      ]
     },
     "execution_count": 7,
     "metadata": {},
     "output_type": "execute_result"
    }
   ],
   "source": [
    "def get_squad_players(q):\n",
    "    url = \"http://127.0.0.1:5000/squads\"\n",
    "    dict = {\"squad\":q}\n",
    "    return requests.get(url,params=dict).json()[0]\n",
    "\n",
    "get_squad_players(\"Spain\")"
   ]
  },
  {
   "cell_type": "code",
   "execution_count": null,
   "id": "8c348447",
   "metadata": {},
   "outputs": [],
   "source": []
  },
  {
   "cell_type": "code",
   "execution_count": null,
   "id": "06a39fc1",
   "metadata": {},
   "outputs": [],
   "source": []
  },
  {
   "cell_type": "code",
   "execution_count": null,
   "id": "087c0008",
   "metadata": {},
   "outputs": [],
   "source": []
  },
  {
   "cell_type": "code",
   "execution_count": null,
   "id": "57dfd407",
   "metadata": {},
   "outputs": [],
   "source": []
  }
 ],
 "metadata": {
  "kernelspec": {
   "display_name": "Python 3 (ipykernel)",
   "language": "python",
   "name": "python3"
  },
  "language_info": {
   "codemirror_mode": {
    "name": "ipython",
    "version": 3
   },
   "file_extension": ".py",
   "mimetype": "text/x-python",
   "name": "python",
   "nbconvert_exporter": "python",
   "pygments_lexer": "ipython3",
   "version": "3.9.6"
  }
 },
 "nbformat": 4,
 "nbformat_minor": 5
}
