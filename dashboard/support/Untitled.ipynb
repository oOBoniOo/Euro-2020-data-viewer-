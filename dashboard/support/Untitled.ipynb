{
 "cells": [
  {
   "cell_type": "code",
   "execution_count": 1,
   "id": "a2b74cab",
   "metadata": {},
   "outputs": [],
   "source": [
    "import requests\n",
    "import json\n",
    "def get_matches():\n",
    "    url=\"http://127.0.0.1:5000/matchs\"\n",
    "    equipos = requests.get(url).json()\n",
    "    return equipos\n"
   ]
  },
  {
   "cell_type": "code",
   "execution_count": 5,
   "id": "550fd2a0",
   "metadata": {},
   "outputs": [
    {
     "data": {
      "text/plain": [
       "{'_id': {'$oid': '616b0c03d12d90abfaaf6ca3'},\n",
       " 'stage': ' Final ',\n",
       " 'date': '11.07.2021',\n",
       " 'pens': True,\n",
       " 'pens_home_score': 3,\n",
       " 'pens_away_score': 2,\n",
       " 'team_name_home': ' Italy ',\n",
       " 'team_name_away': ' England ',\n",
       " 'team_home_score': 1,\n",
       " 'team_away_score': 1,\n",
       " 'possession_home': '66%',\n",
       " 'possession_away': ' 34% ',\n",
       " 'total_shots_home': 19,\n",
       " 'total_shots_away': 6,\n",
       " 'shots_on_target_home': 6,\n",
       " 'shots_on_target_away': 2,\n",
       " 'duels_won_home': '53%',\n",
       " 'duels_won_away': ' 47% ',\n",
       " 'events_list': [\"{'event_team':'away','event_time':2','event_type':'Goal','action_player_1':'LukeShaw','action_player_2':'KieranTrippier'},{'event_team':'home','event_time':47','event_type':'Yellowcard','action_player_1':'NicoloBarella'},{'event_team':'home','event_time':54','event_type':'Substitution','action_player_1':'BryanCristante','action_player_2':'NicoloBarella'},{'event_team':'home','event_time':55','event_type':'Yellowcard','action_player_1':'LeonardoBonucci'},{'event_team':'home','event_time':55','event_type':'Substitution','action_player_1':'DomenicoBerardi','action_player_2':'CiroImmobile'},{'event_team':'home','event_time':67','event_type':'Goal','action_player_1':'LeonardoBonucci'},{'event_team':'away','event_time':70','event_type':'Substitution','action_player_1':'BukayoSaka','action_player_2':'KieranTrippier'},{'event_team':'away','event_time':74','event_type':'Substitution','action_player_1':'JordanHenderson','action_player_2':'DeclanRice'},{'event_team':'home','event_time':84','event_type':'Yellowcard','action_player_1':'LorenzoInsigne'},{'event_team':'home','event_time':86','event_type':'Substitution','action_player_1':'FedericoBernardeschi','action_player_2':'FedericoChiesa'},{'event_team':'home','event_time':96','event_type':'Yellowcard','action_player_1':'GiorgioChiellini'},{'event_team':'home','event_time':90','event_type':'Substitution','action_player_1':'AndreaBelotti','action_player_2':'LorenzoInsigne'},{'event_team':'home','event_time':96','event_type':'Substitution','action_player_1':'ManuelLocatelli','action_player_2':'MarcoVerratti'},{'event_team':'away','event_time':99','event_type':'Substitution','action_player_1':'JackGrealish','action_player_2':'MasonMount'},{'event_team':'away','event_time':106','event_type':'Yellowcard','action_player_1':'HarryMaguire'},{'event_team':'home','event_time':114','event_type':'Yellowcard','action_player_1':'Jorginho'},{'event_team':'home','event_time':118','event_type':'Substitution','action_player_1':'AlessandroFlorenzi','action_player_2':'Emerson'},{'event_team':'away','event_time':120','event_type':'Substitution','action_player_1':'MarcusRashford','action_player_2':'JordanHenderson'},{'event_team':'away','event_time':120','event_type':'Substitution','action_player_1':'JadonSancho','action_player_2':'KyleWalker'},{'event_team':'home','event_time':False,'event_type':'PK','event_result':'Goal','event_player':'DomenicoBerardi'},{'event_team':'away','event_time':False,'event_type':'PK','event_result':'Goal','event_player':'HarryKane'},{'event_team':'home','event_time':False,'event_type':'PK','event_result':'Missed','event_player':'AndreaBelotti'},{'event_team':'away','event_time':False,'event_type':'PK','event_result':'Goal','event_player':'HarryMaguire'},{'event_team':'home','event_time':False,'event_type':'PK','event_result':'Goal','event_player':'LeonardoBonucci'},{'event_team':'away','event_time':False,'event_type':'PK','event_result':'Missed','event_player':'MarcusRashford'},{'event_team':'home','event_time':False,'event_type':'PK','event_result':'Goal','event_player':'FedericoBernardeschi'},{'event_team':'away','event_time':False,'event_type':'PK','event_result':'Missed','event_player':'JadonSancho'},{'event_team':'home','event_time':False,'event_type':'PK','event_result':'Missed','event_player':'Jorginho'},{'event_team':'away','event_time':False,'event_type':'PK','event_result':'Missed','event_player':'BukayoSaka'}\"],\n",
       " 'lineup_home': {'10': 'Insigne',\n",
       "  '17': ' Immobile',\n",
       "  '14': ' Chiesa',\n",
       "  '6': ' Verratti',\n",
       "  '8': ' Jorginho',\n",
       "  '18': ' Barella',\n",
       "  '13': ' Emerson',\n",
       "  '3': ' Chiellini',\n",
       "  '19': ' Bonucci',\n",
       "  '2': ' Di Lorenzo',\n",
       "  '21': ' Donnarumma'},\n",
       " 'lineup_away': {'9': 'Kane',\n",
       "  '19': ' Mount',\n",
       "  '10': ' Sterling',\n",
       "  '3': ' Shaw',\n",
       "  '4': ' Rice',\n",
       "  '14': ' Phillips',\n",
       "  '12': ' Trippier',\n",
       "  '6': ' Maguire',\n",
       "  '5': ' Stones',\n",
       "  '2': ' Walker',\n",
       "  '1': ' Pickford'}}"
      ]
     },
     "execution_count": 5,
     "metadata": {},
     "output_type": "execute_result"
    }
   ],
   "source": [
    "l \n",
    "for i in get_matches():\n",
    "    "
   ]
  }
 ],
 "metadata": {
  "kernelspec": {
   "display_name": "Python 3 (ipykernel)",
   "language": "python",
   "name": "python3"
  },
  "language_info": {
   "codemirror_mode": {
    "name": "ipython",
    "version": 3
   },
   "file_extension": ".py",
   "mimetype": "text/x-python",
   "name": "python",
   "nbconvert_exporter": "python",
   "pygments_lexer": "ipython3",
   "version": "3.9.6"
  }
 },
 "nbformat": 4,
 "nbformat_minor": 5
}
